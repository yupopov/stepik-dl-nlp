{
  "nbformat": 4,
  "nbformat_minor": 0,
  "metadata": {
    "kernelspec": {
      "display_name": "Python 3",
      "language": "python",
      "name": "python3"
    },
    "language_info": {
      "codemirror_mode": {
        "name": "ipython",
        "version": 3
      },
      "file_extension": ".py",
      "mimetype": "text/x-python",
      "name": "python",
      "nbconvert_exporter": "python",
      "pygments_lexer": "ipython3",
      "version": "3.6.9"
    },
    "latex_envs": {
      "LaTeX_envs_menu_present": true,
      "autoclose": false,
      "autocomplete": true,
      "bibliofile": "biblio.bib",
      "cite_by": "apalike",
      "current_citInitial": 1,
      "eqLabelWithNumbers": true,
      "eqNumInitial": 1,
      "hotkeys": {
        "equation": "Ctrl-E",
        "itemize": "Ctrl-I"
      },
      "labels_anchors": false,
      "latex_user_defs": false,
      "report_style_numbering": false,
      "user_envs_cfg": false
    },
    "toc": {
      "base_numbering": 1,
      "nav_menu": {},
      "number_sections": true,
      "sideBar": true,
      "skip_h1_title": false,
      "title_cell": "Table of Contents",
      "title_sidebar": "Contents",
      "toc_cell": false,
      "toc_position": {},
      "toc_section_display": true,
      "toc_window_display": true
    },
    "colab": {
      "name": "task1_20newsgroups (4).ipynb",
      "provenance": [],
      "collapsed_sections": [],
      "include_colab_link": true
    },
    "accelerator": "GPU"
  },
  "cells": [
    {
      "cell_type": "markdown",
      "metadata": {
        "id": "view-in-github",
        "colab_type": "text"
      },
      "source": [
        "<a href=\"https://colab.research.google.com/github/yupopov/stepik-dl-nlp/blob/master/task1_20newsgroups.ipynb\" target=\"_parent\"><img src=\"https://colab.research.google.com/assets/colab-badge.svg\" alt=\"Open In Colab\"/></a>"
      ]
    },
    {
      "cell_type": "markdown",
      "metadata": {
        "id": "VoAi0RZFuFqj"
      },
      "source": [
        "# Тематическая классификация длинных текстов - TFIDF и LogReg"
      ]
    },
    {
      "cell_type": "code",
      "metadata": {
        "colab": {
          "base_uri": "https://localhost:8080/"
        },
        "id": "4hUN0-5SuFqs",
        "outputId": "55333e9a-4d54-4509-8296-c5e4e703c915"
      },
      "source": [
        "# Если Вы запускаете ноутбук на colab или kaggle,\n",
        "# выполните следующие строчки, чтобы подгрузить библиотеку dlnlputils:\n",
        "\n",
        "!git clone https://github.com/Samsung-IT-Academy/stepik-dl-nlp.git && pip install -r stepik-dl-nlp/requirements.txt\n",
        "import sys; sys.path.append('./stepik-dl-nlp')"
      ],
      "execution_count": null,
      "outputs": [
        {
          "output_type": "stream",
          "text": [
            "fatal: destination path 'stepik-dl-nlp' already exists and is not an empty directory.\n"
          ],
          "name": "stdout"
        }
      ]
    },
    {
      "cell_type": "code",
      "metadata": {
        "ExecuteTime": {
          "end_time": "2019-09-12T12:42:57.265628Z",
          "start_time": "2019-09-12T12:42:55.188211Z"
        },
        "id": "0XYhf6__uFqu"
      },
      "source": [
        "import warnings\n",
        "warnings.filterwarnings('ignore')\n",
        "\n",
        "from sklearn.datasets import fetch_20newsgroups\n",
        "from sklearn.metrics import accuracy_score\n",
        "\n",
        "import numpy as np\n",
        "\n",
        "import matplotlib.pyplot as plt\n",
        "%matplotlib inline\n",
        "\n",
        "import collections\n",
        "\n",
        "import torch\n",
        "from torch import nn\n",
        "from torch.nn import functional as F\n",
        "\n",
        "import dlnlputils\n",
        "from dlnlputils.data import tokenize_text_simple_regex, tokenize_corpus, build_vocabulary, \\\n",
        "    vectorize_texts, SparseFeaturesDataset\n",
        "from dlnlputils.pipeline import train_eval_loop, predict_with_model, init_random_seed\n",
        "\n",
        "init_random_seed()"
      ],
      "execution_count": null,
      "outputs": []
    },
    {
      "cell_type": "markdown",
      "metadata": {
        "id": "RKC31UEguFqv"
      },
      "source": [
        "## Предобработка текстов и подготовка признаков"
      ]
    },
    {
      "cell_type": "code",
      "metadata": {
        "ExecuteTime": {
          "end_time": "2019-09-12T12:42:57.847399Z",
          "start_time": "2019-09-12T12:42:57.268037Z"
        },
        "colab": {
          "base_uri": "https://localhost:8080/"
        },
        "id": "_uiS6FHquFqv",
        "outputId": "ab0d47d1-beb0-4c95-ddda-198de0e380f1"
      },
      "source": [
        "train_source = fetch_20newsgroups(subset='train')\n",
        "test_source = fetch_20newsgroups(subset='test')\n",
        "\n",
        "print('Количество обучающих текстов', len(train_source['data']))\n",
        "print('Количество тестовых текстов', len(test_source['data']))\n",
        "print()\n",
        "print(train_source['data'][0].strip())\n",
        "\n",
        "print()\n",
        "print('Метка', train_source['target'][0])"
      ],
      "execution_count": null,
      "outputs": [
        {
          "output_type": "stream",
          "text": [
            "Количество обучающих текстов 11314\n",
            "Количество тестовых текстов 7532\n",
            "\n",
            "From: lerxst@wam.umd.edu (where's my thing)\n",
            "Subject: WHAT car is this!?\n",
            "Nntp-Posting-Host: rac3.wam.umd.edu\n",
            "Organization: University of Maryland, College Park\n",
            "Lines: 15\n",
            "\n",
            " I was wondering if anyone out there could enlighten me on this car I saw\n",
            "the other day. It was a 2-door sports car, looked to be from the late 60s/\n",
            "early 70s. It was called a Bricklin. The doors were really small. In addition,\n",
            "the front bumper was separate from the rest of the body. This is \n",
            "all I know. If anyone can tellme a model name, engine specs, years\n",
            "of production, where this car is made, history, or whatever info you\n",
            "have on this funky looking car, please e-mail.\n",
            "\n",
            "Thanks,\n",
            "- IL\n",
            "   ---- brought to you by your neighborhood Lerxst ----\n",
            "\n",
            "Метка 7\n"
          ],
          "name": "stdout"
        }
      ]
    },
    {
      "cell_type": "markdown",
      "metadata": {
        "id": "S3hlCqt-uFqw"
      },
      "source": [
        "### Подготовка признаков"
      ]
    },
    {
      "cell_type": "code",
      "metadata": {
        "ExecuteTime": {
          "end_time": "2019-09-12T12:43:00.294422Z",
          "start_time": "2019-09-12T12:42:57.849386Z"
        },
        "colab": {
          "base_uri": "https://localhost:8080/"
        },
        "id": "KhFBk1WruFqw",
        "outputId": "95dfb606-188b-4dc1-f5b2-ebf1848ef6b7"
      },
      "source": [
        "train_tokenized = tokenize_corpus(train_source['data'])\n",
        "test_tokenized = tokenize_corpus(test_source['data'])\n",
        "\n",
        "print(' '.join(train_tokenized[0]))"
      ],
      "execution_count": null,
      "outputs": [
        {
          "output_type": "stream",
          "text": [
            "from lerxst where thing subject what this nntp posting host rac3 organization university maryland college park lines wondering anyone there could enlighten this other door sports looked from late early called bricklin doors were really small addition front bumper separate from rest body this know anyone tellme model name engine specs years production where this made history whatever info have this funky looking please mail thanks brought your neighborhood lerxst\n"
          ],
          "name": "stdout"
        }
      ]
    },
    {
      "cell_type": "code",
      "metadata": {
        "ExecuteTime": {
          "end_time": "2019-09-12T12:43:00.825372Z",
          "start_time": "2019-09-12T12:43:00.297392Z"
        },
        "colab": {
          "base_uri": "https://localhost:8080/"
        },
        "id": "vvdLomyfuFqw",
        "outputId": "a6561219-2a88-4e57-8a68-7e01b13b87a3"
      },
      "source": [
        "MAX_DF = 0.8\n",
        "MIN_COUNT = 5\n",
        "vocabulary, word_doc_freq = build_vocabulary(train_tokenized, max_doc_freq=MAX_DF, min_count=MIN_COUNT)\n",
        "UNIQUE_WORDS_N = len(vocabulary)\n",
        "print('Количество уникальных токенов', UNIQUE_WORDS_N)\n",
        "print(list(vocabulary.items())[:10])"
      ],
      "execution_count": null,
      "outputs": [
        {
          "output_type": "stream",
          "text": [
            "Количество уникальных токенов 21628\n",
            "[('that', 0), ('this', 1), ('have', 2), ('with', 3), ('writes', 4), ('article', 5), ('posting', 6), ('host', 7), ('nntp', 8), ('there', 9)]\n"
          ],
          "name": "stdout"
        }
      ]
    },
    {
      "cell_type": "code",
      "metadata": {
        "ExecuteTime": {
          "end_time": "2019-09-12T12:43:01.524600Z",
          "start_time": "2019-09-12T12:43:00.829107Z"
        },
        "colab": {
          "base_uri": "https://localhost:8080/",
          "height": 281
        },
        "id": "7sl6dQztuFqx",
        "outputId": "bcb0d207-1bf6-4d18-bc1e-02605a11772c"
      },
      "source": [
        "plt.hist(word_doc_freq, bins=20)\n",
        "plt.title('Распределение относительных частот слов')\n",
        "plt.yscale('log');"
      ],
      "execution_count": null,
      "outputs": [
        {
          "output_type": "display_data",
          "data": {
            "image/png": "[encoded data removed]",
            "text/plain": [
              "<Figure size 432x288 with 1 Axes>"
            ]
          },
          "metadata": {
            "tags": [],
            "needs_background": "light"
          }
        }
      ]
    },
    {
      "cell_type": "code",
      "metadata": {
        "ExecuteTime": {
          "end_time": "2019-09-12T12:44:16.094816Z",
          "start_time": "2019-09-12T12:43:01.526554Z"
        },
        "colab": {
          "base_uri": "https://localhost:8080/"
        },
        "id": "h9KfR5xRuFqx",
        "outputId": "820f1edd-042b-4ca4-fb56-6c8dce2cf355"
      },
      "source": [
        "VECTORIZATION_MODE = 'tfidf'\n",
        "train_vectors = vectorize_texts(train_tokenized, vocabulary, word_doc_freq, mode=VECTORIZATION_MODE)\n",
        "test_vectors = vectorize_texts(test_tokenized, vocabulary, word_doc_freq, mode=VECTORIZATION_MODE)\n",
        "\n",
        "print('Размерность матрицы признаков обучающей выборки', train_vectors.shape)\n",
        "print('Размерность матрицы признаков тестовой выборки', test_vectors.shape)\n",
        "print()\n",
        "print('Количество ненулевых элементов в обучающей выборке', train_vectors.nnz)\n",
        "print('Процент заполненности матрицы признаков {:.2f}%'.format(train_vectors.nnz * 100 / (train_vectors.shape[0] * train_vectors.shape[1])))\n",
        "print()\n",
        "print('Количество ненулевых элементов в тестовой выборке', test_vectors.nnz)\n",
        "print('Процент заполненности матрицы признаков {:.2f}%'.format(test_vectors.nnz * 100 / (test_vectors.shape[0] * test_vectors.shape[1])))"
      ],
      "execution_count": null,
      "outputs": [
        {
          "output_type": "stream",
          "text": [
            "Размерность матрицы признаков обучающей выборки (11314, 21628)\n",
            "Размерность матрицы признаков тестовой выборки (7532, 21628)\n",
            "\n",
            "Количество ненулевых элементов в обучающей выборке 1126792\n",
            "Процент заполненности матрицы признаков 0.46%\n",
            "\n",
            "Количество ненулевых элементов в тестовой выборке 721529\n",
            "Процент заполненности матрицы признаков 0.44%\n"
          ],
          "name": "stdout"
        }
      ]
    },
    {
      "cell_type": "code",
      "metadata": {
        "ExecuteTime": {
          "end_time": "2019-09-12T12:44:16.857114Z",
          "start_time": "2019-09-12T12:44:16.098773Z"
        },
        "colab": {
          "base_uri": "https://localhost:8080/",
          "height": 281
        },
        "id": "orAJHFkluFqy",
        "outputId": "a59e9069-c91e-433a-a1ac-a093c008ae3d"
      },
      "source": [
        "plt.hist(train_vectors.data, bins=20)\n",
        "plt.title('Распределение весов признаков')\n",
        "plt.yscale('log');"
      ],
      "execution_count": null,
      "outputs": [
        {
          "output_type": "display_data",
          "data": {
            "image/png": "[encoded data removed]",
            "text/plain": [
              "<Figure size 432x288 with 1 Axes>"
            ]
          },
          "metadata": {
            "tags": [],
            "needs_background": "light"
          }
        }
      ]
    },
    {
      "cell_type": "markdown",
      "metadata": {
        "id": "zc9aieTHuFqy"
      },
      "source": [
        "### Распределение классов"
      ]
    },
    {
      "cell_type": "code",
      "metadata": {
        "ExecuteTime": {
          "end_time": "2019-09-12T12:44:16.864960Z",
          "start_time": "2019-09-12T12:44:16.859476Z"
        },
        "colab": {
          "base_uri": "https://localhost:8080/"
        },
        "id": "aNXJuq4puFqz",
        "outputId": "bce71e13-3af7-4a7e-f9f9-d95065ad3ce4"
      },
      "source": [
        "UNIQUE_LABELS_N = len(set(train_source['target']))\n",
        "print('Количество уникальных меток', UNIQUE_LABELS_N)"
      ],
      "execution_count": null,
      "outputs": [
        {
          "output_type": "stream",
          "text": [
            "Количество уникальных меток 20\n"
          ],
          "name": "stdout"
        }
      ]
    },
    {
      "cell_type": "code",
      "metadata": {
        "ExecuteTime": {
          "end_time": "2019-09-12T12:44:17.106036Z",
          "start_time": "2019-09-12T12:44:16.867310Z"
        },
        "colab": {
          "base_uri": "https://localhost:8080/",
          "height": 281
        },
        "id": "b_L3ogDvuFqz",
        "outputId": "63e4777b-1e93-4d6b-caa4-86c5c43f6134"
      },
      "source": [
        "plt.hist(train_source['target'], bins=np.arange(0, 21))\n",
        "plt.title('Распределение меток в обучающей выборке');"
      ],
      "execution_count": null,
      "outputs": [
        {
          "output_type": "display_data",
          "data": {
            "image/png": "[encoded data removed]",
            "text/plain": [
              "<Figure size 432x288 with 1 Axes>"
            ]
          },
          "metadata": {
            "tags": [],
            "needs_background": "light"
          }
        }
      ]
    },
    {
      "cell_type": "code",
      "metadata": {
        "ExecuteTime": {
          "end_time": "2019-09-12T12:44:17.312198Z",
          "start_time": "2019-09-12T12:44:17.109884Z"
        },
        "scrolled": true,
        "colab": {
          "base_uri": "https://localhost:8080/",
          "height": 281
        },
        "id": "Ow4bi6IZuFqz",
        "outputId": "e555c3c0-0f22-4032-edc3-6bbc53ba9b60"
      },
      "source": [
        "plt.hist(test_source['target'], bins=np.arange(0, 21))\n",
        "plt.title('Распределение меток в тестовой выборке');"
      ],
      "execution_count": null,
      "outputs": [
        {
          "output_type": "display_data",
          "data": {
            "image/png": "[encoded data removed]",
            "text/plain": [
              "<Figure size 432x288 with 1 Axes>"
            ]
          },
          "metadata": {
            "tags": [],
            "needs_background": "light"
          }
        }
      ]
    },
    {
      "cell_type": "markdown",
      "metadata": {
        "id": "5bleMM7-uFq3"
      },
      "source": [
        "### PyTorch Dataset"
      ]
    },
    {
      "cell_type": "code",
      "metadata": {
        "ExecuteTime": {
          "end_time": "2019-09-12T12:44:17.319292Z",
          "start_time": "2019-09-12T12:44:17.315074Z"
        },
        "id": "0X3D9kUluFq3"
      },
      "source": [
        "train_dataset = SparseFeaturesDataset(train_vectors, train_source['target'])\n",
        "test_dataset = SparseFeaturesDataset(test_vectors, test_source['target'])"
      ],
      "execution_count": null,
      "outputs": []
    },
    {
      "cell_type": "markdown",
      "metadata": {
        "id": "Yfm59_xvuFq4"
      },
      "source": [
        "## Обучение модели на PyTorch"
      ]
    },
    {
      "cell_type": "code",
      "metadata": {
        "ExecuteTime": {
          "end_time": "2019-09-12T12:46:22.371272Z",
          "start_time": "2019-09-12T12:44:17.322178Z"
        },
        "scrolled": false,
        "colab": {
          "base_uri": "https://localhost:8080/"
        },
        "id": "LxYAhGtPuFq4",
        "outputId": "395fc0c4-a239-43d7-ccd5-8d08cb2df7fe"
      },
      "source": [
        "model = nn.Linear(UNIQUE_WORDS_N, UNIQUE_LABELS_N)\n",
        "\n",
        "scheduler = lambda optim: \\\n",
        "    torch.optim.lr_scheduler.ReduceLROnPlateau(optim, patience=5, factor=0.5, verbose=True)\n",
        "\n",
        "best_val_loss, best_model = train_eval_loop(model=model,\n",
        "                                            train_dataset=train_dataset,\n",
        "                                            val_dataset=test_dataset,\n",
        "                                            criterion=F.cross_entropy,\n",
        "                                            lr=1e-1,\n",
        "                                            epoch_n=200,\n",
        "                                            batch_size=32,\n",
        "                                            l2_reg_alpha=0,\n",
        "                                            lr_scheduler_ctor=scheduler)"
      ],
      "execution_count": null,
      "outputs": [
        {
          "output_type": "stream",
          "text": [
            "Эпоха 0\n",
            "Эпоха: 354 итераций, 2.54 сек\n",
            "Среднее значение функции потерь на обучении 2.225023294236027\n",
            "Среднее значение функции потерь на валидации 2.119315680810961\n",
            "Новая лучшая модель!\n",
            "\n",
            "Эпоха 1\n",
            "Эпоха: 354 итераций, 2.49 сек\n",
            "Среднее значение функции потерь на обучении 0.9164805346626347\n",
            "Среднее значение функции потерь на валидации 1.6757621719675548\n",
            "Новая лучшая модель!\n",
            "\n",
            "Эпоха 2\n",
            "Эпоха: 354 итераций, 2.48 сек\n",
            "Среднее значение функции потерь на обучении 0.4659296732585309\n",
            "Среднее значение функции потерь на валидации 1.4736619500790613\n",
            "Новая лучшая модель!\n",
            "\n",
            "Эпоха 3\n",
            "Эпоха: 354 итераций, 2.51 сек\n",
            "Среднее значение функции потерь на обучении 0.2840370452925984\n",
            "Среднее значение функции потерь на валидации 1.345172615627111\n",
            "Новая лучшая модель!\n",
            "\n",
            "Эпоха 4\n",
            "Эпоха: 354 итераций, 2.47 сек\n",
            "Среднее значение функции потерь на обучении 0.19067813285579116\n",
            "Среднее значение функции потерь на валидации 1.2647146718986964\n",
            "Новая лучшая модель!\n",
            "\n",
            "Эпоха 5\n",
            "Эпоха: 354 итераций, 2.52 сек\n",
            "Среднее значение функции потерь на обучении 0.13671436174483287\n",
            "Среднее значение функции потерь на валидации 1.2008016831794028\n",
            "Новая лучшая модель!\n",
            "\n",
            "Эпоха 6\n",
            "Эпоха: 354 итераций, 2.48 сек\n",
            "Среднее значение функции потерь на обучении 0.10171823230924579\n",
            "Среднее значение функции потерь на валидации 1.1603798772824012\n",
            "Новая лучшая модель!\n",
            "\n",
            "Эпоха 7\n",
            "Эпоха: 354 итераций, 2.49 сек\n",
            "Среднее значение функции потерь на обучении 0.07843657586155302\n",
            "Среднее значение функции потерь на валидации 1.1188625074544196\n",
            "Новая лучшая модель!\n",
            "\n",
            "Эпоха 8\n",
            "Эпоха: 354 итераций, 2.47 сек\n",
            "Среднее значение функции потерь на обучении 0.06154105351911594\n",
            "Среднее значение функции потерь на валидации 1.0848561495037403\n",
            "Новая лучшая модель!\n",
            "\n",
            "Эпоха 9\n",
            "Эпоха: 354 итераций, 2.47 сек\n",
            "Среднее значение функции потерь на обучении 0.049364368176077214\n",
            "Среднее значение функции потерь на валидации 1.0622084408493366\n",
            "Новая лучшая модель!\n",
            "\n",
            "Эпоха 10\n",
            "Эпоха: 354 итераций, 2.47 сек\n",
            "Среднее значение функции потерь на обучении 0.03999436541465716\n",
            "Среднее значение функции потерь на валидации 1.0450973745624899\n",
            "Новая лучшая модель!\n",
            "\n",
            "Эпоха 11\n",
            "Эпоха: 354 итераций, 2.48 сек\n",
            "Среднее значение функции потерь на обучении 0.032936359542595633\n",
            "Среднее значение функции потерь на валидации 1.0290334580813425\n",
            "Новая лучшая модель!\n",
            "\n",
            "Эпоха 12\n",
            "Эпоха: 354 итераций, 2.48 сек\n",
            "Среднее значение функции потерь на обучении 0.027560348759305343\n",
            "Среднее значение функции потерь на валидации 1.0156912553613469\n",
            "Новая лучшая модель!\n",
            "\n",
            "Эпоха 13\n",
            "Эпоха: 354 итераций, 2.47 сек\n",
            "Среднее значение функции потерь на обучении 0.02319271122184345\n",
            "Среднее значение функции потерь на валидации 0.9971662816607346\n",
            "Новая лучшая модель!\n",
            "\n",
            "Эпоха 14\n",
            "Эпоха: 354 итераций, 2.52 сек\n",
            "Среднее значение функции потерь на обучении 0.019499259381318242\n",
            "Среднее значение функции потерь на валидации 0.9858465060844259\n",
            "Новая лучшая модель!\n",
            "\n",
            "Эпоха 15\n",
            "Эпоха: 354 итераций, 2.50 сек\n",
            "Среднее значение функции потерь на обучении 0.01652247371351988\n",
            "Среднее значение функции потерь на валидации 0.9851048429638652\n",
            "Новая лучшая модель!\n",
            "\n",
            "Эпоха 16\n",
            "Эпоха: 354 итераций, 2.46 сек\n",
            "Среднее значение функции потерь на обучении 0.014381131208580682\n",
            "Среднее значение функции потерь на валидации 0.9818623509194891\n",
            "Новая лучшая модель!\n",
            "\n",
            "Эпоха 17\n",
            "Эпоха: 354 итераций, 2.52 сек\n",
            "Среднее значение функции потерь на обучении 0.012216251452669165\n",
            "Среднее значение функции потерь на валидации 0.9786673237459135\n",
            "Новая лучшая модель!\n",
            "\n",
            "Эпоха 18\n",
            "Эпоха: 354 итераций, 2.50 сек\n",
            "Среднее значение функции потерь на обучении 0.010692143522066164\n",
            "Среднее значение функции потерь на валидации 0.9606697724784835\n",
            "Новая лучшая модель!\n",
            "\n",
            "Эпоха 19\n",
            "Эпоха: 354 итераций, 2.49 сек\n",
            "Среднее значение функции потерь на обучении 0.009467406850176637\n",
            "Среднее значение функции потерь на валидации 0.955868712547472\n",
            "Новая лучшая модель!\n",
            "\n",
            "Эпоха 20\n",
            "Эпоха: 354 итераций, 2.48 сек\n",
            "Среднее значение функции потерь на обучении 0.008242573149733793\n",
            "Среднее значение функции потерь на валидации 0.967478516748396\n",
            "\n",
            "Эпоха 21\n",
            "Эпоха: 354 итераций, 2.48 сек\n",
            "Среднее значение функции потерь на обучении 0.0073728306290672535\n",
            "Среднее значение функции потерь на валидации 0.9419807856113224\n",
            "Новая лучшая модель!\n",
            "\n",
            "Эпоха 22\n",
            "Эпоха: 354 итераций, 2.51 сек\n",
            "Среднее значение функции потерь на обучении 0.0067079560564815115\n",
            "Среднее значение функции потерь на валидации 0.9431578231565023\n",
            "\n",
            "Эпоха 23\n",
            "Эпоха: 354 итераций, 2.46 сек\n",
            "Среднее значение функции потерь на обучении 0.005953487090037683\n",
            "Среднее значение функции потерь на валидации 0.9430872946977615\n",
            "\n",
            "Эпоха 24\n",
            "Эпоха: 354 итераций, 2.48 сек\n",
            "Среднее значение функции потерь на обучении 0.005577334411814546\n",
            "Среднее значение функции потерь на валидации 0.9346257540381561\n",
            "Новая лучшая модель!\n",
            "\n",
            "Эпоха 25\n",
            "Эпоха: 354 итераций, 2.47 сек\n",
            "Среднее значение функции потерь на обучении 0.004908501705461271\n",
            "Среднее значение функции потерь на валидации 0.9600739210086354\n",
            "\n",
            "Эпоха 26\n",
            "Эпоха: 354 итераций, 2.53 сек\n",
            "Среднее значение функции потерь на обучении 0.004591081759400434\n",
            "Среднее значение функции потерь на валидации 0.940976144398673\n",
            "\n",
            "Эпоха 27\n",
            "Эпоха: 354 итераций, 2.48 сек\n",
            "Среднее значение функции потерь на обучении 0.004458225637708532\n",
            "Среднее значение функции потерь на валидации 0.9326973448870546\n",
            "Новая лучшая модель!\n",
            "\n",
            "Эпоха 28\n",
            "Эпоха: 354 итераций, 2.47 сек\n",
            "Среднее значение функции потерь на обучении 0.0038905415274886846\n",
            "Среднее значение функции потерь на валидации 0.9328162860819849\n",
            "\n",
            "Эпоха 29\n",
            "Эпоха: 354 итераций, 2.49 сек\n",
            "Среднее значение функции потерь на обучении 0.003792585011937992\n",
            "Среднее значение функции потерь на валидации 0.9658882189857758\n",
            "\n",
            "Эпоха 30\n",
            "Эпоха: 354 итераций, 2.50 сек\n",
            "Среднее значение функции потерь на обучении 0.0031058358183587076\n",
            "Среднее значение функции потерь на валидации 0.9778740174942098\n",
            "\n",
            "Эпоха 31\n",
            "Эпоха: 354 итераций, 2.43 сек\n",
            "Среднее значение функции потерь на обучении 0.0033677059719352167\n",
            "Среднее значение функции потерь на валидации 0.9733995440400253\n",
            "\n",
            "Эпоха 32\n",
            "Эпоха: 354 итераций, 2.53 сек\n",
            "Среднее значение функции потерь на обучении 0.002843075529594924\n",
            "Среднее значение функции потерь на валидации 1.004312295024678\n",
            "\n",
            "Эпоха 33\n",
            "Эпоха: 354 итераций, 2.47 сек\n",
            "Среднее значение функции потерь на обучении 0.0029573827165726174\n",
            "Среднее значение функции потерь на валидации 0.9668057338666107\n",
            "Epoch    34: reducing learning rate of group 0 to 5.0000e-02.\n",
            "\n",
            "Эпоха 34\n",
            "Эпоха: 354 итераций, 2.51 сек\n",
            "Среднее значение функции потерь на обучении 0.002376190182985738\n",
            "Среднее значение функции потерь на валидации 0.9410561473440315\n",
            "\n",
            "Эпоха 35\n",
            "Эпоха: 354 итераций, 2.46 сек\n",
            "Среднее значение функции потерь на обучении 0.002197266583412157\n",
            "Среднее значение функции потерь на валидации 0.9460449665784836\n",
            "\n",
            "Эпоха 36\n",
            "Эпоха: 354 итераций, 2.47 сек\n",
            "Среднее значение функции потерь на обучении 0.0021391144522783442\n",
            "Среднее значение функции потерь на валидации 0.9517217720464125\n",
            "\n",
            "Эпоха 37\n",
            "Эпоха: 354 итераций, 2.52 сек\n",
            "Среднее значение функции потерь на обучении 0.002139292432725006\n",
            "Среднее значение функции потерь на валидации 0.9406464107460895\n",
            "\n",
            "Эпоха 38\n",
            "Эпоха: 354 итераций, 2.60 сек\n",
            "Среднее значение функции потерь на обучении 0.0021328314172635436\n",
            "Среднее значение функции потерь на валидации 0.946185542365252\n",
            "Модель не улучшилась за последние 10 эпох, прекращаем обучение\n"
          ],
          "name": "stdout"
        }
      ]
    },
    {
      "cell_type": "markdown",
      "metadata": {
        "id": "dkQwFQyouFq5"
      },
      "source": [
        "## Оценка качества"
      ]
    },
    {
      "cell_type": "code",
      "metadata": {
        "ExecuteTime": {
          "end_time": "2019-09-12T12:46:25.105663Z",
          "start_time": "2019-09-12T12:46:22.373012Z"
        },
        "colab": {
          "base_uri": "https://localhost:8080/"
        },
        "id": "CUY1oXJouFq5",
        "outputId": "dbb0ead1-336c-4b5c-e001-21e2cf36ad63"
      },
      "source": [
        "train_pred = predict_with_model(best_model, train_dataset)\n",
        "\n",
        "train_loss = F.cross_entropy(torch.from_numpy(train_pred),\n",
        "                             torch.from_numpy(train_source['target']).long())\n",
        "\n",
        "print('Среднее значение функции потерь на обучении', float(train_loss))\n",
        "print('Доля верных ответов', accuracy_score(train_source['target'], train_pred.argmax(-1)))\n",
        "print()\n",
        "\n",
        "\n",
        "\n",
        "test_pred = predict_with_model(best_model, test_dataset)\n",
        "\n",
        "test_loss = F.cross_entropy(torch.from_numpy(test_pred),\n",
        "                            torch.from_numpy(test_source['target']).long())\n",
        "\n",
        "print('Среднее значение функции потерь на валидации', float(test_loss))\n",
        "print('Доля верных ответов', accuracy_score(test_source['target'], test_pred.argmax(-1)))"
      ],
      "execution_count": null,
      "outputs": [
        {
          "output_type": "stream",
          "text": [
            "100%|██████████| 354/353.5625 [00:02<00:00, 148.68it/s]\n",
            "  7%|▋         | 16/235.375 [00:00<00:01, 154.76it/s]"
          ],
          "name": "stderr"
        },
        {
          "output_type": "stream",
          "text": [
            "Среднее значение функции потерь на обучении 0.003156960941851139\n",
            "Доля верных ответов 0.9993812975075128\n",
            "\n"
          ],
          "name": "stdout"
        },
        {
          "output_type": "stream",
          "text": [
            "236it [00:01, 150.81it/s]                             "
          ],
          "name": "stderr"
        },
        {
          "output_type": "stream",
          "text": [
            "Среднее значение функции потерь на валидации 0.9307219982147217\n",
            "Доля верных ответов 0.7651354221986192\n"
          ],
          "name": "stdout"
        },
        {
          "output_type": "stream",
          "text": [
            "\n"
          ],
          "name": "stderr"
        }
      ]
    },
    {
      "cell_type": "code",
      "metadata": {
        "id": "MD5vKhEruUAF"
      },
      "source": [
        ""
      ],
      "execution_count": null,
      "outputs": []
    },
    {
      "cell_type": "markdown",
      "metadata": {
        "id": "BP2tElPmuFq6"
      },
      "source": [
        "# Альтернативная реализация на scikit-learn"
      ]
    },
    {
      "cell_type": "code",
      "metadata": {
        "ExecuteTime": {
          "end_time": "2019-09-12T12:46:31.791405Z",
          "start_time": "2019-09-12T12:46:25.107897Z"
        },
        "scrolled": false,
        "id": "psIHEX_TuFq6"
      },
      "source": [
        "from sklearn.feature_extraction.text import TfidfVectorizer\n",
        "from sklearn.pipeline import Pipeline\n",
        "from sklearn.linear_model import LogisticRegression\n",
        "\n",
        "sklearn_pipeline = Pipeline((('vect', TfidfVectorizer(tokenizer=tokenize_text_simple_regex,\n",
        "                                                      max_df=MAX_DF,\n",
        "                                                      min_df=MIN_COUNT)),\n",
        "                             ('cls', LogisticRegression())))\n",
        "sklearn_pipeline.fit(train_source['data'], train_source['target']);"
      ],
      "execution_count": null,
      "outputs": []
    },
    {
      "cell_type": "markdown",
      "metadata": {
        "id": "PoVy0mwWuFq7"
      },
      "source": [
        "## Оценка качества"
      ]
    },
    {
      "cell_type": "code",
      "metadata": {
        "ExecuteTime": {
          "end_time": "2019-09-12T12:46:35.454567Z",
          "start_time": "2019-09-12T12:46:31.792832Z"
        },
        "colab": {
          "base_uri": "https://localhost:8080/"
        },
        "id": "060qTnWsuFq7",
        "outputId": "fa8437b3-1d72-4dfa-8073-99e5230e6f05"
      },
      "source": [
        "sklearn_train_pred = sklearn_pipeline.predict_proba(train_source['data'])\n",
        "sklearn_train_loss = F.cross_entropy(torch.from_numpy(sklearn_train_pred),\n",
        "                                                 torch.from_numpy(train_source['target']))\n",
        "print('Среднее значение функции потерь на обучении', float(sklearn_train_loss))\n",
        "print('Доля верных ответов', accuracy_score(train_source['target'], sklearn_train_pred.argmax(-1)))\n",
        "print()\n",
        "\n",
        "sklearn_test_pred = sklearn_pipeline.predict_proba(test_source['data'])\n",
        "sklearn_test_loss = F.cross_entropy(torch.from_numpy(sklearn_test_pred),\n",
        "                                                torch.from_numpy(test_source['target']))\n",
        "print('Среднее значение функции потерь на валидации', float(sklearn_test_loss))\n",
        "print('Доля верных ответов', accuracy_score(test_source['target'], sklearn_test_pred.argmax(-1)))"
      ],
      "execution_count": null,
      "outputs": [
        {
          "output_type": "stream",
          "text": [
            "Среднее значение функции потерь на обучении 2.495478891857855\n",
            "Доля верных ответов 0.9716280714159449\n",
            "\n",
            "Среднее значение функции потерь на валидации 2.653902258233705\n",
            "Доля верных ответов 0.8190387679235263\n"
          ],
          "name": "stdout"
        }
      ]
    },
    {
      "cell_type": "markdown",
      "metadata": {
        "id": "TCr5UerowqIH"
      },
      "source": [
        "## Эксперименты с логистической регрессией\n"
      ]
    },
    {
      "cell_type": "markdown",
      "metadata": {
        "id": "7GsFrcmvj0qr"
      },
      "source": [
        "Попробуем поэкспериментировать с параметрами и улучшить результат логистической регрессии. Лучший результат получается при использовании лемматизации из nltk и тех значениях гиперпараметров векторизатора и логит регрессии, что указаны ниже, перебор по сетке через ```HalvingGridSearchCV``` дает результат немного похуже. Стандартизация данных и отбор признаков через $L_1$-регрессию не улучшают результат, и вообще от практически стопроцентной accuracy на тренировочном множестве получается избавиться только с аналогичным падением accuracy на тестовом множестве (то есть, неочевидно как избавиться от переобучения). Возможно, имеет смысл вручную настроить гиперпараметры для лемматизации из spaCy. SVM дает аналогичные по качеству результаты."
      ]
    },
    {
      "cell_type": "code",
      "metadata": {
        "colab": {
          "base_uri": "https://localhost:8080/"
        },
        "id": "Vhh3mVaruFq7",
        "outputId": "de267482-e340-4b40-ba01-dc6277932d3b"
      },
      "source": [
        "import re\n",
        "\n",
        "import nltk\n",
        "nltk.download('wordnet')\n",
        "from nltk.stem import WordNetLemmatizer\n",
        "from nltk.corpus import wordnet\n",
        "\n",
        "import spacy\n",
        "\n",
        "TOKEN_RE = re.compile(r'[\\w\\d]+')\n",
        "lemmatizer = WordNetLemmatizer()\n",
        "\n",
        "\n",
        "def tokenize_text_nltk_lemmatizer(txt, min_token_size=4):\n",
        "    txt = txt.lower()\n",
        "    all_tokens = TOKEN_RE.findall(txt)\n",
        "    return [lemmatizer.lemmatize(token) for token in all_tokens if len(token) >= min_token_size]\n",
        "\n",
        "\n",
        "nlp = spacy.load('en', disable=['parser', 'ner']) \n",
        "\n",
        "def tokenize_text_spacy_lemmatizer(txt, min_token_size=4):\n",
        "    txt = txt.lower()\n",
        "    return [token.lemma_ for token in nlp(txt) if len(token) >= min_token_size]"
      ],
      "execution_count": null,
      "outputs": [
        {
          "output_type": "stream",
          "text": [
            "[nltk_data] Downloading package wordnet to /root/nltk_data...\n",
            "[nltk_data]   Package wordnet is already up-to-date!\n"
          ],
          "name": "stdout"
        }
      ]
    },
    {
      "cell_type": "code",
      "metadata": {
        "id": "GbUiHsMPyG-q"
      },
      "source": [
        "train_lemmatized_spacy = list(' '.join([token.lemma_ for token in sent if len(token) >= 4]) for sent in nlp.pipe(train_source['data']))\n",
        "test_lemmatized_spacy = list(' '.join([token.lemma_ for token in sent if len(token) >= 4]) for sent in nlp.pipe(test_source['data']))"
      ],
      "execution_count": null,
      "outputs": []
    },
    {
      "cell_type": "code",
      "metadata": {
        "colab": {
          "base_uri": "https://localhost:8080/"
        },
        "id": "yAaNcYLHw_-s",
        "outputId": "1d77d74f-520d-4baa-859d-165442db14fd"
      },
      "source": [
        "from sklearn.preprocessing import StandardScaler\n",
        "from sklearn.feature_selection import SelectFromModel\n",
        "from sklearn.svm import LinearSVC\n",
        "\n",
        "vectorizer = TfidfVectorizer(tokenizer=tokenize_text_nltk_lemmatizer,\n",
        "                                stop_words='english',\n",
        "                                max_features=250000,\n",
        "                                ngram_range=(1, 2),\n",
        "                                max_df=0.6,\n",
        "                                min_df=1,\n",
        "                                smooth_idf=False,\n",
        "                                sublinear_tf=True\n",
        "                                )\n",
        "\n",
        "scaler = StandardScaler\n",
        "\n",
        "selector = SelectFromModel(LogisticRegression(penalty='l1', solver='liblinear', C=100))\n",
        "\n",
        "logit = LogisticRegression(C=1000,\n",
        "                           solver='liblinear',\n",
        "                           fit_intercept=False,\n",
        "                           # class_weight='balanced'\n",
        "                           max_iter=100,\n",
        "                           )\n",
        "svm = LinearSVC(C=100, fit_intercept=False, class_weight='balanced')\n",
        "\n",
        "sklearn_pipeline = Pipeline((('vect', vectorizer),\n",
        "                             # ('scaler', scaler),\n",
        "                             # ('selector', selector),\n",
        "                             ('cls', logit)))\n",
        "\n",
        "def evaluate_model(model=sklearn_pipeline,\n",
        "                   train_set=train_source['data'],\n",
        "                   train_labels=train_source['target'],\n",
        "                   test_set=test_source['data'],\n",
        "                   test_labels=test_source['target']):\n",
        "  model.fit(train_set, train_labels)\n",
        "\n",
        "  if hasattr(model, 'predict_proba'):\n",
        "    train_pred = model.predict_proba(train_set)\n",
        "  else: # svm\n",
        "    train_pred = model.decision_function(train_set)\n",
        "  train_loss = F.cross_entropy(torch.from_numpy(train_pred),\n",
        "                                                  torch.from_numpy(train_labels))\n",
        "  print('Среднее значение функции потерь на обучении', float(train_loss))\n",
        "  print('Доля верных ответов', accuracy_score(train_labels, train_pred.argmax(-1)))\n",
        "  print()\n",
        "\n",
        "  if hasattr(model, 'predict_proba'):\n",
        "    test_pred = model.predict_proba(test_set)\n",
        "  else: # svm\n",
        "    test_pred = model.decision_function(test_set)\n",
        "  test_loss = F.cross_entropy(torch.from_numpy(test_pred),\n",
        "                                                  torch.from_numpy(test_labels))\n",
        "  print('Среднее значение функции потерь на валидации', float(test_loss))\n",
        "  print('Доля верных ответов', accuracy_score(test_labels, test_pred.argmax(-1)))\n",
        "\n",
        "evaluate_model()"
      ],
      "execution_count": null,
      "outputs": [
        {
          "output_type": "stream",
          "text": [
            "Среднее значение функции потерь на обучении 2.0860611914362086\n",
            "Доля верных ответов 0.999734841788934\n",
            "\n",
            "Среднее значение функции потерь на валидации 2.2545607555395586\n",
            "Доля верных ответов 0.8649761019649496\n"
          ],
          "name": "stdout"
        }
      ]
    },
    {
      "cell_type": "code",
      "metadata": {
        "colab": {
          "base_uri": "https://localhost:8080/"
        },
        "id": "hh0fmgq9GBcw",
        "outputId": "764875e4-1fb2-479a-e2ca-3cda03cc9ddb"
      },
      "source": [
        "params = {'vect__tokenizer': None}\n",
        "evaluate_model(sklearn_pipeline.set_params(**params),\n",
        "               train_set=train_lemmatized_spacy,\n",
        "               test_set=test_lemmatized_spacy)"
      ],
      "execution_count": null,
      "outputs": [
        {
          "output_type": "stream",
          "text": [
            "Среднее значение функции потерь на обучении 2.08541354687641\n",
            "Доля верных ответов 0.9998232278592893\n",
            "\n",
            "Среднее значение функции потерь на валидации 2.2583571906521924\n",
            "Доля верных ответов 0.8559479553903345\n"
          ],
          "name": "stdout"
        }
      ]
    },
    {
      "cell_type": "markdown",
      "metadata": {
        "id": "DwL2KJ8ve48X"
      },
      "source": [
        "## Эксперименты с нейросетью"
      ]
    },
    {
      "cell_type": "markdown",
      "metadata": {
        "id": "YwoniF3kXrtV"
      },
      "source": [
        "Нейросеть с одним скрытым слоем на 100 нейронов и активацией ReLU обучается дольше, а результат получается примерно такой же. Добавлять фичи (лучший вариант получается при 100000 фичах) и скрытые нейроны в этом слое уже больше нет смысла, результат только падает. Но поменять learning rate до $10^{-3}$ сильно помогает. Можно добавить еще слой, но лучше получить плотный эмбеддинг и решать эту задачу более подходящими для этого нейронками."
      ]
    },
    {
      "cell_type": "code",
      "metadata": {
        "colab": {
          "base_uri": "https://localhost:8080/"
        },
        "id": "KikZgagmdz8V",
        "outputId": "845903dd-92df-43d8-c8f8-9d13ecac0b77"
      },
      "source": [
        "vectorizer_nn = TfidfVectorizer(tokenizer=tokenize_text_nltk_lemmatizer,\n",
        "                                stop_words='english',\n",
        "                                max_features=100000,\n",
        "                                ngram_range=(1, 2),\n",
        "                                max_df=0.6,\n",
        "                                min_df=1,\n",
        "                                smooth_idf=False,\n",
        "                                sublinear_tf=True\n",
        "                                )\n",
        "\n",
        "train_vectors = vectorizer_nn.fit_transform(train_source['data'])\n",
        "test_vectors = vectorizer_nn.transform(test_source['data'])\n",
        "\n",
        "train_dataset = SparseFeaturesDataset(train_vectors, train_source['target'])\n",
        "test_dataset = SparseFeaturesDataset(test_vectors, test_source['target'])\n",
        "\n",
        "N_HIDDEN_NEURONS = 100\n",
        "model = nn.Sequential(\n",
        "                       nn.Linear(len(vectorizer_nn.vocabulary_), N_HIDDEN_NEURONS),\n",
        "                       nn.ReLU(),\n",
        "                       nn.Linear(N_HIDDEN_NEURONS, UNIQUE_LABELS_N),\n",
        "                       )\n",
        "\n",
        "scheduler = lambda optim: \\\n",
        "    torch.optim.lr_scheduler.ReduceLROnPlateau(optim, patience=5, factor=0.5, verbose=True)\n",
        "\n",
        "best_val_loss, best_model = train_eval_loop(model=model,\n",
        "                                            train_dataset=train_dataset,\n",
        "                                            val_dataset=test_dataset,\n",
        "                                            criterion=F.cross_entropy,\n",
        "                                            lr=1e-3,\n",
        "                                            epoch_n=200,\n",
        "                                            batch_size=32,\n",
        "                                            l2_reg_alpha=0,\n",
        "                                            lr_scheduler_ctor=scheduler)\n",
        "\n",
        "train_pred = predict_with_model(best_model, train_dataset)\n",
        "\n",
        "train_loss = F.cross_entropy(torch.from_numpy(train_pred),\n",
        "                             torch.from_numpy(train_source['target']).long())\n",
        "\n",
        "print('Среднее значение функции потерь на обучении', float(train_loss))\n",
        "print('Доля верных ответов', accuracy_score(train_source['target'], train_pred.argmax(-1)))\n",
        "print()\n",
        "\n",
        "\n",
        "\n",
        "test_pred = predict_with_model(best_model, test_dataset)\n",
        "\n",
        "test_loss = F.cross_entropy(torch.from_numpy(test_pred),\n",
        "                            torch.from_numpy(test_source['target']).long())\n",
        "\n",
        "print('Среднее значение функции потерь на валидации', float(test_loss))\n",
        "print('Доля верных ответов', accuracy_score(test_source['target'], test_pred.argmax(-1)))"
      ],
      "execution_count": null,
      "outputs": [
        {
          "output_type": "stream",
          "text": [
            "Эпоха 0\n",
            "Эпоха: 354 итераций, 10.77 сек\n",
            "Среднее значение функции потерь на обучении 1.7840214192362156\n",
            "Среднее значение функции потерь на валидации 0.9341650001578412\n",
            "Новая лучшая модель!\n",
            "\n",
            "Эпоха 1\n",
            "Эпоха: 354 итераций, 10.66 сек\n",
            "Среднее значение функции потерь на обучении 0.2565921945444776\n",
            "Среднее значение функции потерь на валидации 0.612678829896248\n",
            "Новая лучшая модель!\n",
            "\n",
            "Эпоха 2\n",
            "Эпоха: 354 итераций, 10.75 сек\n",
            "Среднее значение функции потерь на обучении 0.06022554291885788\n",
            "Среднее значение функции потерь на валидации 0.5509524681305481\n",
            "Новая лучшая модель!\n",
            "\n",
            "Эпоха 3\n",
            "Эпоха: 354 итераций, 10.82 сек\n",
            "Среднее значение функции потерь на обучении 0.02306603196887352\n",
            "Среднее значение функции потерь на валидации 0.5299046498612833\n",
            "Новая лучшая модель!\n",
            "\n",
            "Эпоха 4\n",
            "Эпоха: 354 итераций, 10.86 сек\n",
            "Среднее значение функции потерь на обучении 0.012853154582418713\n",
            "Среднее значение функции потерь на валидации 0.5177854694804903\n",
            "Новая лучшая модель!\n",
            "\n",
            "Эпоха 5\n",
            "Эпоха: 354 итераций, 10.81 сек\n",
            "Среднее значение функции потерь на обучении 0.0086531604917741\n",
            "Среднее значение функции потерь на валидации 0.5105114592460253\n",
            "Новая лучшая модель!\n",
            "\n",
            "Эпоха 6\n",
            "Эпоха: 354 итераций, 10.80 сек\n",
            "Среднее значение функции потерь на обучении 0.0066284643102037365\n",
            "Среднее значение функции потерь на валидации 0.505396472258588\n",
            "Новая лучшая модель!\n",
            "\n",
            "Эпоха 7\n",
            "Эпоха: 354 итераций, 10.75 сек\n",
            "Среднее значение функции потерь на обучении 0.005092524139225052\n",
            "Среднее значение функции потерь на валидации 0.5060387088017444\n",
            "\n",
            "Эпоха 8\n",
            "Эпоха: 354 итераций, 10.83 сек\n",
            "Среднее значение функции потерь на обучении 0.004657931871005824\n",
            "Среднее значение функции потерь на валидации 0.5099873266545898\n",
            "\n",
            "Эпоха 9\n",
            "Эпоха: 354 итераций, 10.79 сек\n",
            "Среднее значение функции потерь на обучении 0.0044110466207845905\n",
            "Среднее значение функции потерь на валидации 0.5019407574150522\n",
            "Новая лучшая модель!\n",
            "\n",
            "Эпоха 10\n",
            "Эпоха: 354 итераций, 10.84 сек\n",
            "Среднее значение функции потерь на обучении 0.003054388129302974\n",
            "Среднее значение функции потерь на валидации 0.502683178426982\n",
            "\n",
            "Эпоха 11\n",
            "Эпоха: 354 итераций, 10.80 сек\n",
            "Среднее значение функции потерь на обучении 0.0035998483898287826\n",
            "Среднее значение функции потерь на валидации 0.5060442812361959\n",
            "\n",
            "Эпоха 12\n",
            "Эпоха: 354 итераций, 10.80 сек\n",
            "Среднее значение функции потерь на обучении 0.002779020774681358\n",
            "Среднее значение функции потерь на валидации 0.5028186758538171\n",
            "\n",
            "Эпоха 13\n",
            "Эпоха: 354 итераций, 10.77 сек\n",
            "Среднее значение функции потерь на обучении 0.0029352508811872073\n",
            "Среднее значение функции потерь на валидации 0.5117901145338507\n",
            "\n",
            "Эпоха 14\n",
            "Эпоха: 354 итераций, 10.79 сек\n",
            "Среднее значение функции потерь на обучении 0.0025064339552148336\n",
            "Среднее значение функции потерь на валидации 0.5110464556679383\n",
            "\n",
            "Эпоха 15\n",
            "Эпоха: 354 итераций, 10.73 сек\n",
            "Среднее значение функции потерь на обучении 0.0030397861977854326\n",
            "Среднее значение функции потерь на валидации 0.5081703959317025\n",
            "Epoch    16: reducing learning rate of group 0 to 5.0000e-04.\n",
            "\n",
            "Эпоха 16\n",
            "Эпоха: 354 итераций, 10.79 сек\n",
            "Среднее значение функции потерь на обучении 0.0015651251217651267\n",
            "Среднее значение функции потерь на валидации 0.508559699991118\n",
            "\n",
            "Эпоха 17\n",
            "Эпоха: 354 итераций, 10.77 сек\n",
            "Среднее значение функции потерь на обучении 0.0014765068384608921\n",
            "Среднее значение функции потерь на валидации 0.5108070387583921\n",
            "\n",
            "Эпоха 18\n",
            "Эпоха: 354 итераций, 10.83 сек\n",
            "Среднее значение функции потерь на обучении 0.0014977586971290705\n",
            "Среднее значение функции потерь на валидации 0.5140898308353656\n",
            "\n",
            "Эпоха 19\n",
            "Эпоха: 354 итераций, 10.77 сек\n",
            "Среднее значение функции потерь на обучении 0.001506575157054099\n",
            "Среднее значение функции потерь на валидации 0.5130979700992673\n",
            "\n",
            "Эпоха 20\n",
            "Эпоха: 354 итераций, 10.82 сек\n",
            "Среднее значение функции потерь на обучении 0.0015269953347666098\n"
          ],
          "name": "stdout"
        },
        {
          "output_type": "stream",
          "text": [
            "  1%|▏         | 5/353.5625 [00:00<00:08, 42.83it/s]"
          ],
          "name": "stderr"
        },
        {
          "output_type": "stream",
          "text": [
            "Среднее значение функции потерь на валидации 0.5151724943701746\n",
            "Модель не улучшилась за последние 10 эпох, прекращаем обучение\n"
          ],
          "name": "stdout"
        },
        {
          "output_type": "stream",
          "text": [
            "100%|██████████| 354/353.5625 [00:08<00:00, 43.75it/s]\n",
            "  2%|▏         | 5/235.375 [00:00<00:05, 42.49it/s]"
          ],
          "name": "stderr"
        },
        {
          "output_type": "stream",
          "text": [
            "Среднее значение функции потерь на обучении 0.002567702205851674\n",
            "Доля верных ответов 0.9993812975075128\n",
            "\n"
          ],
          "name": "stdout"
        },
        {
          "output_type": "stream",
          "text": [
            "236it [00:05, 43.11it/s]                             "
          ],
          "name": "stderr"
        },
        {
          "output_type": "stream",
          "text": [
            "Среднее значение функции потерь на валидации 0.5011373162269592\n",
            "Доля верных ответов 0.856744556558683\n"
          ],
          "name": "stdout"
        },
        {
          "output_type": "stream",
          "text": [
            "\n"
          ],
          "name": "stderr"
        }
      ]
    },
    {
      "cell_type": "code",
      "metadata": {
        "id": "4jgZcx6b8EPh"
      },
      "source": [
        ""
      ],
      "execution_count": null,
      "outputs": []
    }
  ]
}